{
  "nbformat": 4,
  "nbformat_minor": 0,
  "metadata": {
    "colab": {
      "name": "Spellout.ipynb",
      "provenance": [],
      "collapsed_sections": [],
      "authorship_tag": "ABX9TyPLQfds4hfreEmfF/cLXtXm",
      "include_colab_link": true
    },
    "kernelspec": {
      "name": "python3",
      "display_name": "Python 3"
    }
  },
  "cells": [
    {
      "cell_type": "markdown",
      "metadata": {
        "id": "view-in-github",
        "colab_type": "text"
      },
      "source": [
        "<a href=\"https://colab.research.google.com/github/aziryasin/SinhalaSpeechRecognizer/blob/master/Spellout.ipynb\" target=\"_parent\"><img src=\"https://colab.research.google.com/assets/colab-badge.svg\" alt=\"Open In Colab\"/></a>"
      ]
    },
    {
      "cell_type": "code",
      "metadata": {
        "id": "7bFF3lgZhE4F",
        "colab_type": "code",
        "colab": {}
      },
      "source": [
        "ones = [\"බිංදුව\", \"එක\", \"දෙක\", \"තුන\", \"හතර\", \"පහ\", \"හය\", \"හත\",\"අට\", \"නවය\"] \n",
        "tenP =[\"දහය\", \"එකොළහ\", \"දොළහ\", \"දහතුන\", \"දාහතර\", \"පහළොව\",\"දාසය\", \"දහහත\", \"දහඅට\", \"දහනවය\" ]\n",
        "tens = [\"දහය\", \"විස්ස\", \"තිහ\", \"හතලිහ\", \"පනහ\", \"හැට\", \"හැත්තෑව\",\"අසූව\", \"අනූව\" ]\n",
        "tensP = [\"දහය\", \"විසි\", \"තිස්\", \"හතලිස්\", \"පනස්\", \"හැට\", \"හැත්ත\",\"අසූ\", \"අනූ\" ]\n",
        "hundreds = [\"එකසීය\",\"දෙසීය\",\"තුන්සීය\",\"හරසීය\",\"පන්සීය\",\"හයසීය\",\"හත්සීය\",\"අටසීය\",\"නවසීය\"]\n",
        "thousands =[ \"එකදාහ\", \"දෙදාහ\", \"තුන්දාහ\", \"හරදාහ\",\"පන්දාහ\",\"හයදාහ\",\"හත්දාහ\",\"අටදාහ\",\"නවදාහ\"] \n",
        "thousandsP =[ \"එක්දහස්\", \"දෙදහස්\", \"තුන්දහස්\", \"හාරදහස්\",\"පන්දහස්\",\"හයදහස්\",\"හත්දහස්\",\"අටදහස්\",\"නවදහස්\"] "
      ],
      "execution_count": 0,
      "outputs": []
    },
    {
      "cell_type": "code",
      "metadata": {
        "id": "PxppqXpXiGN4",
        "colab_type": "code",
        "colab": {}
      },
      "source": [
        "def num2spellout(x):\n",
        "  if x<10:\n",
        "    return (ones[x])\n",
        "  if x<20:\n",
        "    return(tenP[x-10])\n",
        "  if x<100:\n",
        "    if(x%10)==0:\n",
        "      return(tens[(x//10)-1])\n",
        "    else:\n",
        "      return(tensP[(x//10)-1]+\" \"+ones[x%10])\n",
        "  if x<1000:\n",
        "    if(x%100)==0:\n",
        "      return(hundreds[(x//100)-1])\n",
        "    else:\n",
        "      return(hundreds[(x//100)-1]+\" \"+ num2spellout(x%100))\n",
        "  if x<10000:\n",
        "    if (x%1000)==0:\n",
        "      return thousands[(x//1000)-1]\n",
        "    else:\n",
        "      return (thousandsP[(x//1000)-1]+\" \"+ num2spellout(x%1000))"
      ],
      "execution_count": 0,
      "outputs": []
    },
    {
      "cell_type": "code",
      "metadata": {
        "id": "dIVRuM-ukDlo",
        "colab_type": "code",
        "colab": {
          "base_uri": "https://localhost:8080/",
          "height": 34
        },
        "outputId": "76648b00-0ae9-4637-c365-0d4af8d28afe"
      },
      "source": [
        "print(num2spellout(8826))"
      ],
      "execution_count": 3,
      "outputs": [
        {
          "output_type": "stream",
          "text": [
            "අටදහස් අටසීය විසි හය\n"
          ],
          "name": "stdout"
        }
      ]
    },
    {
      "cell_type": "code",
      "metadata": {
        "id": "LDeekPi5qa2Q",
        "colab_type": "code",
        "colab": {}
      },
      "source": [
        "def spellout2num(y):\n",
        "  sp=y.split(\" \")\n",
        "  if len(sp) ==1:\n",
        "    return getSingleWordNum(sp[0])\n",
        "  if len(sp) ==2:\n",
        "    if sp[0] in ones:\n",
        "      return str(getSingleWordNum(sp[0]))+str(getSingleWordNum(sp[1]))\n",
        "    if sp[0] in tensP:\n",
        "      return (((tensP.index(sp[0])+1)*10)+spellout2num(sp[1]))\n",
        "    if sp[0] in hundreds:\n",
        "      return (((hundreds.index(sp[0])+1)*100)+spellout2num(sp[1]))\n",
        "  if len(sp) ==3:\n",
        "    if sp[0] in ones:\n",
        "      return str(getSingleWordNum(sp[0]))+\" \"+str(getSingleWordNum(sp[1]))+\" \"+str(getSingleWordNum(sp[2]))\n",
        "    if sp[0] in tensP:\n",
        "      return (((tensP.index(sp[0])+1)*10)+spellout2num(sp[1]))\n",
        "    if sp[0] in hundreds:\n",
        "      return (((hundreds.index(sp[0])+1)*100)+spellout2num(sp[1]+\" \"+sp[2]))\n",
        "    if sp[0] in thousandsP:\n",
        "      return (((thousandsP.index(sp[0])+1)*1000)+spellout2num(sp[1]+\" \"+sp[2]))\n",
        "  if len(sp) ==4:\n",
        "    if sp[0] in ones:\n",
        "      return str(getSingleWordNum(sp[0]))+\" \"+str(getSingleWordNum(sp[1]))+\" \"+str(getSingleWordNum(sp[2]))+\" \"+str(getSingleWordNum(sp[3]))\n",
        "    if sp[0] in tensP:\n",
        "      return str((((tensP.index(sp[0])+1)*10)+spellout2num(sp[1])))+\" \"+str((((tensP.index(sp[2])+1)*10)+spellout2num(sp[3])))\n",
        "    if sp[0] in thousandsP:\n",
        "      return (((thousandsP.index(sp[0])+1)*1000)+spellout2num(sp[1]+\" \"+sp[2]+\" \"+sp[3]))"
      ],
      "execution_count": 0,
      "outputs": []
    },
    {
      "cell_type": "code",
      "metadata": {
        "id": "NnZSagKWxIcu",
        "colab_type": "code",
        "colab": {}
      },
      "source": [
        "def getSingleWordNum(s):\n",
        "  if s in ones:\n",
        "    return(ones.index(s))\n",
        "  if s in tenP:\n",
        "    return(tenP.index(s)+10)\n",
        "  if s in tens:\n",
        "    return(((tens.index(s))+1)*10)\n",
        "  if s in hundreds:\n",
        "    return(((hundreds.index(s))+1)*100)\n",
        "  if s in thousands:\n",
        "    return(((thousands.index(s))+1)*1000)\n"
      ],
      "execution_count": 0,
      "outputs": []
    },
    {
      "cell_type": "code",
      "metadata": {
        "id": "mKvNdHrFq5CU",
        "colab_type": "code",
        "colab": {
          "base_uri": "https://localhost:8080/",
          "height": 34
        },
        "outputId": "fcf4ff9b-e37a-47a9-a5b8-08812c93ebbf"
      },
      "source": [
        "print(spellout2num(\"පන්දහස් විසි හතර\"))"
      ],
      "execution_count": 28,
      "outputs": [
        {
          "output_type": "stream",
          "text": [
            "5024\n"
          ],
          "name": "stdout"
        }
      ]
    }
  ]
}